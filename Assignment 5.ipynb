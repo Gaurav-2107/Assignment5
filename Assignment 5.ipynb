{
 "cells": [
  {
   "cell_type": "markdown",
   "id": "a28bb054",
   "metadata": {},
   "source": [
    "## Assignment 5\n",
    "## Name: Gaurav Bhogale\n",
    "## Registration ID: SIRSS2101"
   ]
  },
  {
   "cell_type": "markdown",
   "id": "93df6407",
   "metadata": {},
   "source": [
    "## Q1. Given a list of integers, write a function to return the sum of all prime numbers in that list."
   ]
  },
  {
   "cell_type": "code",
   "execution_count": 1,
   "id": "f82157e8",
   "metadata": {},
   "outputs": [
    {
     "name": "stdout",
     "output_type": "stream",
     "text": [
      "Sum of prime numbers in given list are 42\n"
     ]
    }
   ],
   "source": [
    "def sum(lst):\n",
    "    m=0\n",
    "    for n in lst:\n",
    "        i=2\n",
    "        j=1\n",
    "        while i<=n/2:\n",
    "            if n % i == 0:\n",
    "                j = 0\n",
    "                break\n",
    "            i=i+1\n",
    "        if j == 1:\n",
    "            m=m+n\n",
    "    return m\n",
    "\n",
    "lst=[1,2,3,4,5,6,7,8,9,10,11,12,13,14,15]\n",
    "b=sum(lst)\n",
    "\n",
    "print(\"Sum of prime numbers in given list are\",b)\n",
    "            "
   ]
  },
  {
   "cell_type": "markdown",
   "id": "11ccb0ff",
   "metadata": {},
   "source": [
    "## Q2. Given a list of Integers, write a function to check whether the list is strictly increasing or not"
   ]
  },
  {
   "cell_type": "code",
   "execution_count": 2,
   "id": "92fb1742",
   "metadata": {},
   "outputs": [
    {
     "name": "stdout",
     "output_type": "stream",
     "text": [
      "Original List :[1, 2, 3, 4, 5]\n",
      "List increasing :True\n"
     ]
    }
   ],
   "source": [
    "lst=[1,2,3,4,5]\n",
    "print('Original List :'+str(lst))\n",
    "a = all(i<j for i,j in zip(lst,lst[1:]))\n",
    "print(\"List increasing :\"+str(a))"
   ]
  },
  {
   "cell_type": "markdown",
   "id": "413ed7e4",
   "metadata": {},
   "source": [
    "## Q3. Write a function to check whether a given list is expanding or not (the difference between adjacent elements should keep on increasing)."
   ]
  },
  {
   "cell_type": "code",
   "execution_count": 3,
   "id": "7bd40d29",
   "metadata": {},
   "outputs": [
    {
     "data": {
      "text/plain": [
       "False"
      ]
     },
     "execution_count": 3,
     "metadata": {},
     "output_type": "execute_result"
    }
   ],
   "source": [
    "def expand(l):\n",
    "    difference = abs(l[1] - l[0])\n",
    "    \n",
    "    for i in range(1,len(l)-1):\n",
    "        temp = abs(l[i+1] - l[i])\n",
    "        \n",
    "        if temp < difference:\n",
    "            return False\n",
    "        else:\n",
    "            difference = temp\n",
    "            \n",
    "    return True\n",
    "l=[2,4,5,6,8]\n",
    "expand(l)"
   ]
  },
  {
   "cell_type": "markdown",
   "id": "fa8fe096",
   "metadata": {},
   "source": [
    "## Q4.Write a function to calculate all permutations of a given string.(without using itertools)"
   ]
  },
  {
   "cell_type": "code",
   "execution_count": 4,
   "id": "bcc2b694",
   "metadata": {},
   "outputs": [
    {
     "name": "stdout",
     "output_type": "stream",
     "text": [
      "Enter the string :gaurav\n",
      "All possible words are :\n",
      "gaurav gaurva gauarv gauavr gauvra gauvar garuav garuva garauv garavu garvua garvau gaaurv gaauvr gaaruv gaarvu gaavur gaavru gavura gavuar gavrua gavrau gavaur gavaru guarav guarva guaarv guaavr guavra guavar guraav gurava guraav gurava gurvaa gurvaa guaarv guaavr guarav guarva guavar guavra guvara guvaar guvraa guvraa guvaar guvara grauav grauva graauv graavu gravua gravau gruaav gruava gruaav gruava gruvaa gruvaa graauv graavu grauav grauva gravau gravua grvaua grvaau grvuaa grvuaa grvaau grvaua gaaurv gaauvr gaaruv gaarvu gaavur gaavru gauarv gauavr gaurav gaurva gauvar gauvra garauv garavu garuav garuva garvau garvua gavaur gavaru gavuar gavura gavrau gavrua gvaura gvauar gvarua gvarau gvaaur gvaaru gvuara gvuaar gvuraa gvuraa gvuaar gvuara gvraua gvraau gvruaa gvruaa gvraau gvraua gvaaur gvaaru gvauar gvaura gvarau gvarua agurav agurva aguarv aguavr aguvra aguvar agruav agruva agrauv agravu agrvua agrvau agaurv agauvr agaruv agarvu agavur agavru agvura agvuar agvrua agvrau agvaur agvaru augrav augrva augarv augavr augvra augvar aurgav aurgva auragv auravg aurvga aurvag auagrv auagvr auargv auarvg auavgr auavrg auvgra auvgar auvrga auvrag auvagr auvarg arguav arguva argauv argavu argvua argvau arugav arugva aruagv aruavg aruvga aruvag araguv aragvu araugv arauvg aravgu aravug arvgua arvgau arvuga arvuag arvagu arvaug aagurv aaguvr aagruv aagrvu aagvur aagvru aaugrv aaugvr aaurgv aaurvg aauvgr aauvrg aarguv aargvu aarugv aaruvg aarvgu aarvug aavgur aavgru aavugr aavurg aavrgu aavrug avgura avguar avgrua avgrau avgaur avgaru avugra avugar avurga avurag avuagr avuarg avrgua avrgau avruga avruag avragu avraug avagur avagru avaugr avaurg avargu avarug ugarav ugarva ugaarv ugaavr ugavra ugavar ugraav ugrava ugraav ugrava ugrvaa ugrvaa ugaarv ugaavr ugarav ugarva ugavar ugavra ugvara ugvaar ugvraa ugvraa ugvaar ugvara uagrav uagrva uagarv uagavr uagvra uagvar uargav uargva uaragv uaravg uarvga uarvag uaagrv uaagvr uaargv uaarvg uaavgr uaavrg uavgra uavgar uavrga uavrag uavagr uavarg urgaav urgava urgaav urgava urgvaa urgvaa uragav uragva uraagv uraavg uravga uravag uragav uragva uraagv uraavg uravga uravag urvgaa urvgaa urvaga urvaag urvaga urvaag uagarv uagavr uagrav uagrva uagvar uagvra uaagrv uaagvr uaargv uaarvg uaavgr uaavrg uargav uargva uaragv uaravg uarvga uarvag uavgar uavgra uavagr uavarg uavrga uavrag uvgara uvgaar uvgraa uvgraa uvgaar uvgara uvagra uvagar uvarga uvarag uvaagr uvaarg uvrgaa uvrgaa uvraga uvraag uvraga uvraag uvagar uvagra uvaagr uvaarg uvarga uvarag rgauav rgauva rgaauv rgaavu rgavua rgavau rguaav rguava rguaav rguava rguvaa rguvaa rgaauv rgaavu rgauav rgauva rgavau rgavua rgvaua rgvaau rgvuaa rgvuaa rgvaau rgvaua raguav raguva ragauv ragavu ragvua ragvau raugav raugva rauagv rauavg rauvga rauvag raaguv raagvu raaugv raauvg raavgu raavug ravgua ravgau ravuga ravuag ravagu ravaug rugaav rugava rugaav rugava rugvaa rugvaa ruagav ruagva ruaagv ruaavg ruavga ruavag ruagav ruagva ruaagv ruaavg ruavga ruavag ruvgaa ruvgaa ruvaga ruvaag ruvaga ruvaag ragauv ragavu raguav raguva ragvau ragvua raaguv raagvu raaugv raauvg raavgu raavug raugav raugva rauagv rauavg rauvga rauvag ravgau ravgua ravagu ravaug ravuga ravuag rvgaua rvgaau rvguaa rvguaa rvgaau rvgaua rvagua rvagau rvauga rvauag rvaagu rvaaug rvugaa rvugaa rvuaga rvuaag rvuaga rvuaag rvagau rvagua rvaagu rvaaug rvauga rvauag agaurv agauvr agaruv agarvu agavur agavru aguarv aguavr agurav agurva aguvar aguvra agrauv agravu agruav agruva agrvau agrvua agvaur agvaru agvuar agvura agvrau agvrua aagurv aaguvr aagruv aagrvu aagvur aagvru aaugrv aaugvr aaurgv aaurvg aauvgr aauvrg aarguv aargvu aarugv aaruvg aarvgu aarvug aavgur aavgru aavugr aavurg aavrgu aavrug augarv augavr augrav augrva augvar augvra auagrv auagvr auargv auarvg auavgr auavrg aurgav aurgva auragv auravg aurvga aurvag auvgar auvgra auvagr auvarg auvrga auvrag argauv argavu arguav arguva argvau argvua araguv aragvu araugv arauvg aravgu aravug arugav arugva aruagv aruavg aruvga aruvag arvgau arvgua arvagu arvaug arvuga arvuag avgaur avgaru avguar avgura avgrau avgrua avagur avagru avaugr avaurg avargu avarug avugar avugra avuagr avuarg avurga avurag avrgau avrgua avragu avraug avruga avruag vgaura vgauar vgarua vgarau vgaaur vgaaru vguara vguaar vguraa vguraa vguaar vguara vgraua vgraau vgruaa vgruaa vgraau vgraua vgaaur vgaaru vgauar vgaura vgarau vgarua vagura vaguar vagrua vagrau vagaur vagaru vaugra vaugar vaurga vaurag vauagr vauarg vargua vargau varuga varuag varagu varaug vaagur vaagru vaaugr vaaurg vaargu vaarug vugara vugaar vugraa vugraa vugaar vugara vuagra vuagar vuarga vuarag vuaagr vuaarg vurgaa vurgaa vuraga vuraag vuraga vuraag vuagar vuagra vuaagr vuaarg vuarga vuarag vrgaua vrgaau vrguaa vrguaa vrgaau vrgaua vragua vragau vrauga vrauag vraagu vraaug vrugaa vrugaa vruaga vruaag vruaga vruaag vragau vragua vraagu vraaug vrauga vrauag vagaur vagaru vaguar vagura vagrau vagrua vaagur vaagru vaaugr vaaurg vaargu vaarug vaugar vaugra vauagr vauarg vaurga vaurag vargau vargua varagu varaug varuga varuag "
     ]
    }
   ],
   "source": [
    "def permutation(a,b):\n",
    "    if(len(a) == 0):\n",
    "        print(b, end=\" \")\n",
    "        return\n",
    "    for i in range(len(a)):\n",
    "        c = a[i]\n",
    "        d = a[0:i]\n",
    "        e = a[i + 1:]\n",
    "        f = d + e\n",
    "        permutation(f,b+c)\n",
    "        \n",
    "b=\"\"\n",
    "a=input(\"Enter the string :\")\n",
    "print(\"All possible words are :\")\n",
    "permutation(a,b)"
   ]
  },
  {
   "cell_type": "code",
   "execution_count": null,
   "id": "0d0b0502",
   "metadata": {},
   "outputs": [],
   "source": []
  },
  {
   "cell_type": "code",
   "execution_count": null,
   "id": "8e55819e",
   "metadata": {},
   "outputs": [],
   "source": []
  },
  {
   "cell_type": "code",
   "execution_count": null,
   "id": "67aca3a0",
   "metadata": {},
   "outputs": [],
   "source": []
  },
  {
   "cell_type": "code",
   "execution_count": null,
   "id": "82fc7df0",
   "metadata": {},
   "outputs": [],
   "source": []
  }
 ],
 "metadata": {
  "kernelspec": {
   "display_name": "Python 3",
   "language": "python",
   "name": "python3"
  },
  "language_info": {
   "codemirror_mode": {
    "name": "ipython",
    "version": 3
   },
   "file_extension": ".py",
   "mimetype": "text/x-python",
   "name": "python",
   "nbconvert_exporter": "python",
   "pygments_lexer": "ipython3",
   "version": "3.8.8"
  }
 },
 "nbformat": 4,
 "nbformat_minor": 5
}
